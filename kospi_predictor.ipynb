{
 "cells": [
  {
   "cell_type": "markdown",
   "metadata": {},
   "source": [
    "# 주가 데이터 수집"
   ]
  },
  {
   "cell_type": "code",
   "execution_count": 1,
   "metadata": {},
   "outputs": [
    {
     "name": "stdout",
     "output_type": "stream",
     "text": [
      "[check] table name: 035420_day\n",
      "===== add_labelled_data() =====\n",
      "===== add_gradient() =====\n",
      "===== add_price_status() =====\n"
     ]
    },
    {
     "name": "stderr",
     "output_type": "stream",
     "text": [
      "/Users/sy/2_Github/14_kospi_predictor/kospi_predictor/virtualenv/venv/lib/python3.7/site-packages/pandas/core/generic.py:2531: UserWarning: The spaces in these column names will not be changed. In pandas versions < 0.14, spaces were converted to underscores.\n",
      "  dtype=dtype, method=method)\n"
     ]
    },
    {
     "name": "stdout",
     "output_type": "stream",
     "text": [
      "The table is already exists in pandas dataframe: 035420_day_dataset\n"
     ]
    }
   ],
   "source": [
    "from collector.kospi_db_manager import KospiDBManager\n",
    "from collector.collector import DailyCollector\n",
    "# from collector.collector import HourlyCollector\n",
    "from collector.timeutill_helper import TimeUtillHelper\n",
    "from predictor.predictor import Predictor\n",
    "\n",
    "start_time = TimeUtillHelper(2009, 5, 1)\n",
    "end_time = TimeUtillHelper(2019, 6, 20)\n",
    "daily_collector = DailyCollector(\"035420\", start_time, end_time)\n",
    "daily_collector.read_stock_data()\n",
    "daily_collector.update_stock_database()\n",
    "daily_collector.update_labelled_database()\n",
    "\n",
    "# start_time = TimeUtillHelper(2019, 7, 29, 9, 10, 00)\n",
    "# end_time = TimeUtillHelper(2019, 8, 2, 15, 30, 00)\n",
    "# hourly_collector = HourlyCollector(\"035420\", start_time, end_time)\n",
    "# hourly_collector.read_stock_data()\n",
    "# hourly_collector.update_stock_database()\n",
    "# hourly_collector.update_labelled_database()"
   ]
  },
  {
   "cell_type": "markdown",
   "metadata": {},
   "source": [
    "# 데이터 전처리, 정규화"
   ]
  },
  {
   "cell_type": "code",
   "execution_count": 2,
   "metadata": {},
   "outputs": [
    {
     "name": "stdout",
     "output_type": "stream",
     "text": [
      "1.14.0\n",
      "1.14.0\n",
      "[check] table name: 035420\n",
      "gradient_labels: ((2438, 1))\n",
      "[[0.48889028]\n",
      " [0.48889034]\n",
      " [0.50370068]\n",
      " ...\n",
      " [0.53776053]\n",
      " [0.54531295]\n",
      " [0.54531295]]\n",
      "pricestatus_labels: ((2438, 1))\n",
      "[[1.]\n",
      " [1.]\n",
      " [0.]\n",
      " ...\n",
      " [0.]\n",
      " [0.]\n",
      " [0.]]\n"
     ]
    }
   ],
   "source": [
    "predictor = Predictor()\n",
    "predictor.load_data()"
   ]
  },
  {
   "cell_type": "markdown",
   "metadata": {},
   "source": [
    "# 모델 구성, 평가"
   ]
  },
  {
   "cell_type": "code",
   "execution_count": null,
   "metadata": {},
   "outputs": [
    {
     "name": "stderr",
     "output_type": "stream",
     "text": [
      "WARNING: Logging before flag parsing goes to stderr.\n",
      "W0930 21:34:49.691248 4504446400 deprecation.py:506] From /Users/sy/2_Github/14_kospi_predictor/kospi_predictor/virtualenv/venv/lib/python3.7/site-packages/tensorflow/python/ops/init_ops.py:1251: calling VarianceScaling.__init__ (from tensorflow.python.ops.init_ops) with dtype is deprecated and will be removed in a future version.\n",
      "Instructions for updating:\n",
      "Call initializer instance with the dtype argument instead of passing it to the constructor\n"
     ]
    },
    {
     "name": "stdout",
     "output_type": "stream",
     "text": [
      "Model: \"sequential\"\n",
      "_________________________________________________________________\n",
      "Layer (type)                 Output Shape              Param #   \n",
      "=================================================================\n",
      "dense (Dense)                (None, 64)                256       \n",
      "_________________________________________________________________\n",
      "dense_1 (Dense)              (None, 64)                4160      \n",
      "_________________________________________________________________\n",
      "dense_2 (Dense)              (None, 1)                 65        \n",
      "=================================================================\n",
      "Total params: 4,481\n",
      "Trainable params: 4,481\n",
      "Non-trainable params: 0\n",
      "_________________________________________________________________\n"
     ]
    }
   ],
   "source": [
    "model = predictor.build_model()\n",
    "history = predictor.fit_model(model)\n",
    "predictor.evaluate_model(history)\n",
    "# predictor.check_history(history)"
   ]
  },
  {
   "cell_type": "code",
   "execution_count": null,
   "metadata": {},
   "outputs": [],
   "source": []
  },
  {
   "cell_type": "code",
   "execution_count": null,
   "metadata": {},
   "outputs": [],
   "source": []
  },
  {
   "cell_type": "code",
   "execution_count": null,
   "metadata": {},
   "outputs": [],
   "source": []
  }
 ],
 "metadata": {
  "kernelspec": {
   "display_name": "venv_kospi_predictor",
   "language": "python",
   "name": "venv_kospi_predictor"
  },
  "language_info": {
   "codemirror_mode": {
    "name": "ipython",
    "version": 3
   },
   "file_extension": ".py",
   "mimetype": "text/x-python",
   "name": "python",
   "nbconvert_exporter": "python",
   "pygments_lexer": "ipython3",
   "version": "3.7.3"
  }
 },
 "nbformat": 4,
 "nbformat_minor": 2
}
