{
 "cells": [
  {
   "cell_type": "code",
   "execution_count": null,
   "metadata": {},
   "outputs": [],
   "source": [
    "from collector.kospi_db_manager import KospiDBManager\n",
    "from collector.collector import DailyCollector\n",
    "# from collector.collector import HourlyCollector\n",
    "from collector.timeutill_helper import TimeUtillHelper\n",
    "from predictor.predictor import Predictor\n",
    "\n",
    "start_time = TimeUtillHelper(2009, 5, 1)\n",
    "end_time = TimeUtillHelper(2019, 6, 20)\n",
    "daily_collector = DailyCollector(\"035420\", start_time, end_time)\n",
    "daily_collector.read_stock_data()\n",
    "daily_collector.update_stock_database()\n",
    "daily_collector.update_labelled_database()\n",
    "\n",
    "# start_time = TimeUtillHelper(2019, 7, 29, 9, 10, 00)\n",
    "# end_time = TimeUtillHelper(2019, 8, 2, 15, 30, 00)\n",
    "# hourly_collector = HourlyCollector(\"035420\", start_time, end_time)\n",
    "# hourly_collector.read_stock_data()\n",
    "# hourly_collector.update_stock_database()\n",
    "# hourly_collector.update_labelled_database()\n",
    "\n",
    "predictor = Predictor()\n",
    "predictor.check_predictor()"
   ]
  },
  {
   "cell_type": "code",
   "execution_count": null,
   "metadata": {},
   "outputs": [],
   "source": []
  }
 ],
 "metadata": {
  "kernelspec": {
   "display_name": "venv_kospi_predictor",
   "language": "python",
   "name": "venv_kospi_predictor"
  },
  "language_info": {
   "codemirror_mode": {
    "name": "ipython",
    "version": 3
   },
   "file_extension": ".py",
   "mimetype": "text/x-python",
   "name": "python",
   "nbconvert_exporter": "python",
   "pygments_lexer": "ipython3",
   "version": "3.7.3"
  }
 },
 "nbformat": 4,
 "nbformat_minor": 2
}
